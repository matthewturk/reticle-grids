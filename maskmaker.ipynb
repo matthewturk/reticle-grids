{
 "cells": [
  {
   "cell_type": "code",
   "execution_count": null,
   "id": "0d35a0be-449c-49b3-87dd-e849b3c4e748",
   "metadata": {},
   "outputs": [],
   "source": [
    "from PIL import Image\n",
    "import numpy as np"
   ]
  },
  {
   "cell_type": "code",
   "execution_count": null,
   "id": "89847f01-e244-4589-ab65-928f5febd085",
   "metadata": {},
   "outputs": [],
   "source": [
    "im1 = Image.open(\"EIU_AVL_FRAMING_REF_A.jpg\")\n",
    "im2 = Image.open(\"EIU_AVL_FRAMING_REF_B.jpg\")"
   ]
  },
  {
   "cell_type": "code",
   "execution_count": null,
   "id": "5724fc0d-1b00-48a0-bcdf-7932d26e2fd1",
   "metadata": {},
   "outputs": [],
   "source": [
    "d1 = np.array(im1)\n",
    "d2 = np.array(im2)"
   ]
  },
  {
   "cell_type": "code",
   "execution_count": null,
   "id": "26dfef72-668a-44f7-af7d-aa0b0e73d470",
   "metadata": {},
   "outputs": [],
   "source": [
    "unique_values = np.unique(d1.reshape((-1, 3)), axis=0)"
   ]
  },
  {
   "cell_type": "code",
   "execution_count": null,
   "id": "2a6ce4df-3824-4fa7-ae13-15417771c342",
   "metadata": {},
   "outputs": [],
   "source": [
    "magnitude = np.sqrt((d1 * d1).sum(axis=2))"
   ]
  },
  {
   "cell_type": "code",
   "execution_count": null,
   "id": "7bffced3-73ea-48f0-b903-ea89d50453af",
   "metadata": {},
   "outputs": [],
   "source": [
    "magnitude.max()"
   ]
  },
  {
   "cell_type": "code",
   "execution_count": null,
   "id": "2d8f4d2b-9cf1-4ff4-95fb-8683cfc0638b",
   "metadata": {},
   "outputs": [],
   "source": [
    "mask = (d1 == d2) & (magnitude > 1)[...,None]"
   ]
  },
  {
   "cell_type": "code",
   "execution_count": null,
   "id": "afdc0947-1254-402e-8563-61244c23bdc8",
   "metadata": {},
   "outputs": [],
   "source": [
    "Image.fromarray(mask.astype(\"u1\") * 255)"
   ]
  },
  {
   "cell_type": "code",
   "execution_count": null,
   "id": "5aadab8c-6299-4311-a4c9-bcd64ee8354a",
   "metadata": {},
   "outputs": [],
   "source": []
  }
 ],
 "metadata": {
  "kernelspec": {
   "display_name": "py312",
   "language": "python",
   "name": "py312"
  },
  "language_info": {
   "codemirror_mode": {
    "name": "ipython",
    "version": 3
   },
   "file_extension": ".py",
   "mimetype": "text/x-python",
   "name": "python",
   "nbconvert_exporter": "python",
   "pygments_lexer": "ipython3",
   "version": "3.12.6"
  }
 },
 "nbformat": 4,
 "nbformat_minor": 5
}
