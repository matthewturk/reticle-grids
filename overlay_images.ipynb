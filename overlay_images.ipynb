{
 "cells": [
  {
   "cell_type": "code",
   "execution_count": null,
   "id": "8d354dd8-0e1f-45ff-a005-311dc1ee397f",
   "metadata": {},
   "outputs": [],
   "source": [
    "from PIL import Image, ImageDraw\n",
    "import numpy as np\n",
    "import math"
   ]
  },
  {
   "cell_type": "code",
   "execution_count": null,
   "id": "597180e0-a232-4747-adae-d9c2bb4d552b",
   "metadata": {},
   "outputs": [],
   "source": [
    "def xscale(image):\n",
    "    def _x(v):\n",
    "        return min(max(v * image.width, 0), image.width - 1)\n",
    "    return _x\n",
    "\n",
    "def yscale(image):\n",
    "    def _y(v):\n",
    "        return min(max(image.height * (1 - v) - 1, 0), image.height - 1)\n",
    "    return _y"
   ]
  },
  {
   "cell_type": "code",
   "execution_count": null,
   "id": "5b34a0c7-5668-4dcf-9161-641d891f434d",
   "metadata": {},
   "outputs": [],
   "source": [
    "im = Image.new('RGBA', size = (4096, 2864))\n",
    "x = xscale(im)\n",
    "y = yscale(im)"
   ]
  },
  {
   "cell_type": "code",
   "execution_count": null,
   "id": "fa4232e4-1fac-42df-9b96-05057c6b65ed",
   "metadata": {},
   "outputs": [],
   "source": [
    "draw = ImageDraw.Draw(im)"
   ]
  },
  {
   "cell_type": "code",
   "execution_count": null,
   "id": "4231c94a-55f8-4e32-88c5-0456a485d51b",
   "metadata": {},
   "outputs": [],
   "source": [
    "draw.circle((x(0.5), y(0.5)), x(0.25), outline=(0, 0, 0, 255), fill = (0,0,0,0), width = 2)\n",
    "draw.circle((x(0.5), y(0.5)), x(0.1), outline=(0, 0, 0, 255), fill = (0,0,0,0), width = 2)"
   ]
  },
  {
   "cell_type": "code",
   "execution_count": null,
   "id": "618b5780-db1a-4105-bd57-825b74f00e46",
   "metadata": {},
   "outputs": [],
   "source": [
    "for ci in np.mgrid[0.0:1.0:21j]:\n",
    "    draw.line( [ (x(ci), y(0)), (x(ci), y(1)) ], width=2, fill = (128, 128, 128, 255) )\n",
    "    draw.line( [ (x(0), y(ci)), (x(1), y(ci)) ], width=2, fill = (128, 128, 128, 255) )\n",
    "\n",
    "for i, ci in enumerate(np.mgrid[0.0:1.0:21j]):\n",
    "    if i in (0, 10, 20): continue\n",
    "    draw.circle( (x(ci), y(0.5) ), x(0.01), fill = (255, 255, 255, 192), width = 1, outline = (0, 0, 0, 255) )\n",
    "    draw.text( (x(ci), y(0.5)), f\"{abs(10-i)}\", fill=(0,0,0,255), anchor='mm', font_size=32)\n",
    "    draw.circle( (x(0.5), y(ci) ), x(0.01), fill = (255, 255, 255, 192), width = 1, outline = (0, 0, 0, 255) )\n",
    "    draw.text( (x(0.5), y(ci)), f\"{abs(10-i)}\", fill=(0,0,0,255), anchor='mm', font_size=32)\n"
   ]
  },
  {
   "cell_type": "code",
   "execution_count": null,
   "id": "e14620a3-2d43-47dc-9128-c10c4764517b",
   "metadata": {},
   "outputs": [],
   "source": [
    "im"
   ]
  },
  {
   "cell_type": "code",
   "execution_count": null,
   "id": "b0979fc7-a0d8-4fed-8ecc-faaebdbcca4b",
   "metadata": {},
   "outputs": [],
   "source": []
  }
 ],
 "metadata": {
  "kernelspec": {
   "display_name": "py312",
   "language": "python",
   "name": "py312"
  },
  "language_info": {
   "codemirror_mode": {
    "name": "ipython",
    "version": 3
   },
   "file_extension": ".py",
   "mimetype": "text/x-python",
   "name": "python",
   "nbconvert_exporter": "python",
   "pygments_lexer": "ipython3",
   "version": "3.12.6"
  }
 },
 "nbformat": 4,
 "nbformat_minor": 5
}
